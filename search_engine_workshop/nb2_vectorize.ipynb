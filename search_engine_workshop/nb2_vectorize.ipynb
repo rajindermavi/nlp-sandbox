{
 "cells": [
  {
   "cell_type": "code",
   "execution_count": 1,
   "id": "3b6a415c",
   "metadata": {},
   "outputs": [],
   "source": [
    "import polars as pl\n",
    "import numpy as np\n",
    "from sklearn.feature_extraction.text import CountVectorizer\n",
    "from sklearn.feature_extraction.text import TfidfVectorizer\n",
    "from sklearn.metrics.pairwise import cosine_similarity\n",
    "\n",
    "\n"
   ]
  },
  {
   "cell_type": "code",
   "execution_count": 2,
   "id": "db0c12b9",
   "metadata": {},
   "outputs": [
    {
     "data": {
      "text/html": [
       "<div><style>\n",
       ".dataframe > thead > tr,\n",
       ".dataframe > tbody > tr {\n",
       "  text-align: right;\n",
       "  white-space: pre-wrap;\n",
       "}\n",
       "</style>\n",
       "<small>shape: (5, 4)</small><table border=\"1\" class=\"dataframe\"><thead><tr><th>course</th><th>section</th><th>question</th><th>text</th></tr><tr><td>str</td><td>str</td><td>str</td><td>str</td></tr></thead><tbody><tr><td>&quot;data-engineering-zoomcamp&quot;</td><td>&quot;General course-related questio…</td><td>&quot;Course - When will the course …</td><td>&quot;The purpose of this document i…</td></tr><tr><td>&quot;data-engineering-zoomcamp&quot;</td><td>&quot;General course-related questio…</td><td>&quot;Course - What are the prerequi…</td><td>&quot;GitHub - DataTalksClub data-en…</td></tr><tr><td>&quot;data-engineering-zoomcamp&quot;</td><td>&quot;General course-related questio…</td><td>&quot;Course - Can I still join the …</td><td>&quot;Yes, even if you don&#x27;t registe…</td></tr><tr><td>&quot;data-engineering-zoomcamp&quot;</td><td>&quot;General course-related questio…</td><td>&quot;Course - I have registered for…</td><td>&quot;You don&#x27;t need it. You&#x27;re acce…</td></tr><tr><td>&quot;data-engineering-zoomcamp&quot;</td><td>&quot;General course-related questio…</td><td>&quot;Course - What can I do before …</td><td>&quot;You can start by installing an…</td></tr></tbody></table></div>"
      ],
      "text/plain": [
       "shape: (5, 4)\n",
       "┌───────────────────────────┬────────────────┬──────────────────────────┬──────────────────────────┐\n",
       "│ course                    ┆ section        ┆ question                 ┆ text                     │\n",
       "│ ---                       ┆ ---            ┆ ---                      ┆ ---                      │\n",
       "│ str                       ┆ str            ┆ str                      ┆ str                      │\n",
       "╞═══════════════════════════╪════════════════╪══════════════════════════╪══════════════════════════╡\n",
       "│ data-engineering-zoomcamp ┆ General        ┆ Course - When will the   ┆ The purpose of this      │\n",
       "│                           ┆ course-related ┆ course …                 ┆ document i…              │\n",
       "│                           ┆ questio…       ┆                          ┆                          │\n",
       "│ data-engineering-zoomcamp ┆ General        ┆ Course - What are the    ┆ GitHub - DataTalksClub   │\n",
       "│                           ┆ course-related ┆ prerequi…                ┆ data-en…                 │\n",
       "│                           ┆ questio…       ┆                          ┆                          │\n",
       "│ data-engineering-zoomcamp ┆ General        ┆ Course - Can I still     ┆ Yes, even if you don't   │\n",
       "│                           ┆ course-related ┆ join the …               ┆ registe…                 │\n",
       "│                           ┆ questio…       ┆                          ┆                          │\n",
       "│ data-engineering-zoomcamp ┆ General        ┆ Course - I have          ┆ You don't need it.       │\n",
       "│                           ┆ course-related ┆ registered for…          ┆ You're acce…             │\n",
       "│                           ┆ questio…       ┆                          ┆                          │\n",
       "│ data-engineering-zoomcamp ┆ General        ┆ Course - What can I do   ┆ You can start by         │\n",
       "│                           ┆ course-related ┆ before …                 ┆ installing an…           │\n",
       "│                           ┆ questio…       ┆                          ┆                          │\n",
       "└───────────────────────────┴────────────────┴──────────────────────────┴──────────────────────────┘"
      ]
     },
     "execution_count": 2,
     "metadata": {},
     "output_type": "execute_result"
    }
   ],
   "source": [
    "df = pl.read_parquet('df_qa.parquet')\n",
    "df = df.filter( pl.col('course').eq('data-engineering-zoomcamp') )\n",
    "df.head()"
   ]
  },
  {
   "cell_type": "markdown",
   "id": "76129601",
   "metadata": {},
   "source": [
    "## Vectorize Documents\n",
    "\n",
    "- Turn emails into vectors\n",
    "- term-document matrix\n",
    "    - rows: documents\n",
    "    - columns: words/tokens\n",
    "- bag of words\n",
    "    - word counts only"
   ]
  },
  {
   "cell_type": "code",
   "execution_count": 3,
   "id": "3edb318d",
   "metadata": {},
   "outputs": [],
   "source": [
    "docs_example = [\n",
    "    \"January course details, register now\",\n",
    "    \"Course prerequisites listed in January catalog\",\n",
    "    \"Submit January course homework by end of month\",\n",
    "    \"Register for January course, no prerequisites\",\n",
    "    \"January course setup: Python and Google Cloud\"\n",
    "]\n",
    "\n",
    "cv = CountVectorizer(stop_words='english')\n",
    "\n",
    "cv.fit(docs_example)\n",
    "\n",
    "X = cv.transform(docs_example)\n"
   ]
  },
  {
   "cell_type": "code",
   "execution_count": 4,
   "id": "b1f12e17",
   "metadata": {},
   "outputs": [
    {
     "name": "stdout",
     "output_type": "stream",
     "text": [
      "['catalog' 'cloud' 'course' 'details' 'end' 'google' 'homework' 'january'\n",
      " 'listed' 'month' 'prerequisites' 'python' 'register' 'setup' 'submit']\n"
     ]
    },
    {
     "data": {
      "text/html": [
       "<div><style>\n",
       ".dataframe > thead > tr,\n",
       ".dataframe > tbody > tr {\n",
       "  text-align: right;\n",
       "  white-space: pre-wrap;\n",
       "}\n",
       "</style>\n",
       "<small>shape: (5, 15)</small><table border=\"1\" class=\"dataframe\"><thead><tr><th>column_0</th><th>column_1</th><th>column_2</th><th>column_3</th><th>column_4</th><th>column_5</th><th>column_6</th><th>column_7</th><th>column_8</th><th>column_9</th><th>column_10</th><th>column_11</th><th>column_12</th><th>column_13</th><th>column_14</th></tr><tr><td>i64</td><td>i64</td><td>i64</td><td>i64</td><td>i64</td><td>i64</td><td>i64</td><td>i64</td><td>i64</td><td>i64</td><td>i64</td><td>i64</td><td>i64</td><td>i64</td><td>i64</td></tr></thead><tbody><tr><td>0</td><td>0</td><td>1</td><td>1</td><td>0</td><td>0</td><td>0</td><td>1</td><td>0</td><td>0</td><td>0</td><td>0</td><td>1</td><td>0</td><td>0</td></tr><tr><td>1</td><td>0</td><td>1</td><td>0</td><td>0</td><td>0</td><td>0</td><td>1</td><td>1</td><td>0</td><td>1</td><td>0</td><td>0</td><td>0</td><td>0</td></tr><tr><td>0</td><td>0</td><td>1</td><td>0</td><td>1</td><td>0</td><td>1</td><td>1</td><td>0</td><td>1</td><td>0</td><td>0</td><td>0</td><td>0</td><td>1</td></tr><tr><td>0</td><td>0</td><td>1</td><td>0</td><td>0</td><td>0</td><td>0</td><td>1</td><td>0</td><td>0</td><td>1</td><td>0</td><td>1</td><td>0</td><td>0</td></tr><tr><td>0</td><td>1</td><td>1</td><td>0</td><td>0</td><td>1</td><td>0</td><td>1</td><td>0</td><td>0</td><td>0</td><td>1</td><td>0</td><td>1</td><td>0</td></tr></tbody></table></div>"
      ],
      "text/plain": [
       "shape: (5, 15)\n",
       "┌──────────┬──────────┬──────────┬──────────┬───┬───────────┬───────────┬───────────┬───────────┐\n",
       "│ column_0 ┆ column_1 ┆ column_2 ┆ column_3 ┆ … ┆ column_11 ┆ column_12 ┆ column_13 ┆ column_14 │\n",
       "│ ---      ┆ ---      ┆ ---      ┆ ---      ┆   ┆ ---       ┆ ---       ┆ ---       ┆ ---       │\n",
       "│ i64      ┆ i64      ┆ i64      ┆ i64      ┆   ┆ i64       ┆ i64       ┆ i64       ┆ i64       │\n",
       "╞══════════╪══════════╪══════════╪══════════╪═══╪═══════════╪═══════════╪═══════════╪═══════════╡\n",
       "│ 0        ┆ 0        ┆ 1        ┆ 1        ┆ … ┆ 0         ┆ 1         ┆ 0         ┆ 0         │\n",
       "│ 1        ┆ 0        ┆ 1        ┆ 0        ┆ … ┆ 0         ┆ 0         ┆ 0         ┆ 0         │\n",
       "│ 0        ┆ 0        ┆ 1        ┆ 0        ┆ … ┆ 0         ┆ 0         ┆ 0         ┆ 1         │\n",
       "│ 0        ┆ 0        ┆ 1        ┆ 0        ┆ … ┆ 0         ┆ 1         ┆ 0         ┆ 0         │\n",
       "│ 0        ┆ 1        ┆ 1        ┆ 0        ┆ … ┆ 1         ┆ 0         ┆ 1         ┆ 0         │\n",
       "└──────────┴──────────┴──────────┴──────────┴───┴───────────┴───────────┴───────────┴───────────┘"
      ]
     },
     "execution_count": 4,
     "metadata": {},
     "output_type": "execute_result"
    }
   ],
   "source": [
    "print(cv.get_feature_names_out())\n",
    "\n",
    "pl.from_numpy(np.array(X.todense()))"
   ]
  },
  {
   "cell_type": "code",
   "execution_count": 5,
   "id": "c29a7f64",
   "metadata": {},
   "outputs": [
    {
     "data": {
      "text/html": [
       "<div><style>\n",
       ".dataframe > thead > tr,\n",
       ".dataframe > tbody > tr {\n",
       "  text-align: right;\n",
       "  white-space: pre-wrap;\n",
       "}\n",
       "</style>\n",
       "<small>shape: (15, 6)</small><table border=\"1\" class=\"dataframe\"><thead><tr><th>Word</th><th>column_0</th><th>column_1</th><th>column_2</th><th>column_3</th><th>column_4</th></tr><tr><td>str</td><td>i64</td><td>i64</td><td>i64</td><td>i64</td><td>i64</td></tr></thead><tbody><tr><td>&quot;catalog&quot;</td><td>0</td><td>1</td><td>0</td><td>0</td><td>0</td></tr><tr><td>&quot;cloud&quot;</td><td>0</td><td>0</td><td>0</td><td>0</td><td>1</td></tr><tr><td>&quot;course&quot;</td><td>1</td><td>1</td><td>1</td><td>1</td><td>1</td></tr><tr><td>&quot;details&quot;</td><td>1</td><td>0</td><td>0</td><td>0</td><td>0</td></tr><tr><td>&quot;end&quot;</td><td>0</td><td>0</td><td>1</td><td>0</td><td>0</td></tr><tr><td>&hellip;</td><td>&hellip;</td><td>&hellip;</td><td>&hellip;</td><td>&hellip;</td><td>&hellip;</td></tr><tr><td>&quot;prerequisites&quot;</td><td>0</td><td>1</td><td>0</td><td>1</td><td>0</td></tr><tr><td>&quot;python&quot;</td><td>0</td><td>0</td><td>0</td><td>0</td><td>1</td></tr><tr><td>&quot;register&quot;</td><td>1</td><td>0</td><td>0</td><td>1</td><td>0</td></tr><tr><td>&quot;setup&quot;</td><td>0</td><td>0</td><td>0</td><td>0</td><td>1</td></tr><tr><td>&quot;submit&quot;</td><td>0</td><td>0</td><td>1</td><td>0</td><td>0</td></tr></tbody></table></div>"
      ],
      "text/plain": [
       "shape: (15, 6)\n",
       "┌───────────────┬──────────┬──────────┬──────────┬──────────┬──────────┐\n",
       "│ Word          ┆ column_0 ┆ column_1 ┆ column_2 ┆ column_3 ┆ column_4 │\n",
       "│ ---           ┆ ---      ┆ ---      ┆ ---      ┆ ---      ┆ ---      │\n",
       "│ str           ┆ i64      ┆ i64      ┆ i64      ┆ i64      ┆ i64      │\n",
       "╞═══════════════╪══════════╪══════════╪══════════╪══════════╪══════════╡\n",
       "│ catalog       ┆ 0        ┆ 1        ┆ 0        ┆ 0        ┆ 0        │\n",
       "│ cloud         ┆ 0        ┆ 0        ┆ 0        ┆ 0        ┆ 1        │\n",
       "│ course        ┆ 1        ┆ 1        ┆ 1        ┆ 1        ┆ 1        │\n",
       "│ details       ┆ 1        ┆ 0        ┆ 0        ┆ 0        ┆ 0        │\n",
       "│ end           ┆ 0        ┆ 0        ┆ 1        ┆ 0        ┆ 0        │\n",
       "│ …             ┆ …        ┆ …        ┆ …        ┆ …        ┆ …        │\n",
       "│ prerequisites ┆ 0        ┆ 1        ┆ 0        ┆ 1        ┆ 0        │\n",
       "│ python        ┆ 0        ┆ 0        ┆ 0        ┆ 0        ┆ 1        │\n",
       "│ register      ┆ 1        ┆ 0        ┆ 0        ┆ 1        ┆ 0        │\n",
       "│ setup         ┆ 0        ┆ 0        ┆ 0        ┆ 0        ┆ 1        │\n",
       "│ submit        ┆ 0        ┆ 0        ┆ 1        ┆ 0        ┆ 0        │\n",
       "└───────────────┴──────────┴──────────┴──────────┴──────────┴──────────┘"
      ]
     },
     "execution_count": 5,
     "metadata": {},
     "output_type": "execute_result"
    }
   ],
   "source": [
    "df_cv = pl.from_numpy(np.array(X.todense()) ,schema=cv.get_feature_names_out().tolist())\n",
    "df_cv.transpose(include_header=True, header_name=\"Word\")"
   ]
  },
  {
   "cell_type": "markdown",
   "id": "67daafdb",
   "metadata": {},
   "source": [
    "### FROM BAG OF WORDS TO TFID"
   ]
  },
  {
   "cell_type": "code",
   "execution_count": 6,
   "id": "f3359b4b",
   "metadata": {},
   "outputs": [
    {
     "data": {
      "text/html": [
       "<div><style>\n",
       ".dataframe > thead > tr,\n",
       ".dataframe > tbody > tr {\n",
       "  text-align: right;\n",
       "  white-space: pre-wrap;\n",
       "}\n",
       "</style>\n",
       "<small>shape: (15, 6)</small><table border=\"1\" class=\"dataframe\"><thead><tr><th>Word</th><th>column_0</th><th>column_1</th><th>column_2</th><th>column_3</th><th>column_4</th></tr><tr><td>str</td><td>f64</td><td>f64</td><td>f64</td><td>f64</td><td>f64</td></tr></thead><tbody><tr><td>&quot;catalog&quot;</td><td>0.0</td><td>0.57</td><td>0.0</td><td>0.0</td><td>0.0</td></tr><tr><td>&quot;cloud&quot;</td><td>0.0</td><td>0.0</td><td>0.0</td><td>0.0</td><td>0.47</td></tr><tr><td>&quot;course&quot;</td><td>0.33</td><td>0.27</td><td>0.23</td><td>0.36</td><td>0.23</td></tr><tr><td>&quot;details&quot;</td><td>0.69</td><td>0.0</td><td>0.0</td><td>0.0</td><td>0.0</td></tr><tr><td>&quot;end&quot;</td><td>0.0</td><td>0.0</td><td>0.47</td><td>0.0</td><td>0.0</td></tr><tr><td>&hellip;</td><td>&hellip;</td><td>&hellip;</td><td>&hellip;</td><td>&hellip;</td><td>&hellip;</td></tr><tr><td>&quot;prerequisites&quot;</td><td>0.0</td><td>0.46</td><td>0.0</td><td>0.61</td><td>0.0</td></tr><tr><td>&quot;python&quot;</td><td>0.0</td><td>0.0</td><td>0.0</td><td>0.0</td><td>0.47</td></tr><tr><td>&quot;register&quot;</td><td>0.56</td><td>0.0</td><td>0.0</td><td>0.61</td><td>0.0</td></tr><tr><td>&quot;setup&quot;</td><td>0.0</td><td>0.0</td><td>0.0</td><td>0.0</td><td>0.47</td></tr><tr><td>&quot;submit&quot;</td><td>0.0</td><td>0.0</td><td>0.47</td><td>0.0</td><td>0.0</td></tr></tbody></table></div>"
      ],
      "text/plain": [
       "shape: (15, 6)\n",
       "┌───────────────┬──────────┬──────────┬──────────┬──────────┬──────────┐\n",
       "│ Word          ┆ column_0 ┆ column_1 ┆ column_2 ┆ column_3 ┆ column_4 │\n",
       "│ ---           ┆ ---      ┆ ---      ┆ ---      ┆ ---      ┆ ---      │\n",
       "│ str           ┆ f64      ┆ f64      ┆ f64      ┆ f64      ┆ f64      │\n",
       "╞═══════════════╪══════════╪══════════╪══════════╪══════════╪══════════╡\n",
       "│ catalog       ┆ 0.0      ┆ 0.57     ┆ 0.0      ┆ 0.0      ┆ 0.0      │\n",
       "│ cloud         ┆ 0.0      ┆ 0.0      ┆ 0.0      ┆ 0.0      ┆ 0.47     │\n",
       "│ course        ┆ 0.33     ┆ 0.27     ┆ 0.23     ┆ 0.36     ┆ 0.23     │\n",
       "│ details       ┆ 0.69     ┆ 0.0      ┆ 0.0      ┆ 0.0      ┆ 0.0      │\n",
       "│ end           ┆ 0.0      ┆ 0.0      ┆ 0.47     ┆ 0.0      ┆ 0.0      │\n",
       "│ …             ┆ …        ┆ …        ┆ …        ┆ …        ┆ …        │\n",
       "│ prerequisites ┆ 0.0      ┆ 0.46     ┆ 0.0      ┆ 0.61     ┆ 0.0      │\n",
       "│ python        ┆ 0.0      ┆ 0.0      ┆ 0.0      ┆ 0.0      ┆ 0.47     │\n",
       "│ register      ┆ 0.56     ┆ 0.0      ┆ 0.0      ┆ 0.61     ┆ 0.0      │\n",
       "│ setup         ┆ 0.0      ┆ 0.0      ┆ 0.0      ┆ 0.0      ┆ 0.47     │\n",
       "│ submit        ┆ 0.0      ┆ 0.0      ┆ 0.47     ┆ 0.0      ┆ 0.0      │\n",
       "└───────────────┴──────────┴──────────┴──────────┴──────────┴──────────┘"
      ]
     },
     "execution_count": 6,
     "metadata": {},
     "output_type": "execute_result"
    }
   ],
   "source": [
    "\n",
    "cv = TfidfVectorizer(stop_words='english')\n",
    "X = cv.fit_transform(docs_example)\n",
    "\n",
    "names = cv.get_feature_names_out()\n",
    "\n",
    "df_docs = pl.DataFrame(X.toarray(), schema=list(names))\n",
    "\n",
    "df_docs.with_columns(\n",
    "    pl.selectors.float().round(2)\n",
    ").transpose(include_header=True, header_name=\"Word\")\n"
   ]
  },
  {
   "cell_type": "code",
   "execution_count": 7,
   "id": "c23cf4d8",
   "metadata": {},
   "outputs": [
    {
     "data": {
      "text/plain": [
       "array([[0.        , 0.        , 0.39515588, 0.        , 0.        ,\n",
       "        0.        , 0.        , 0.39515588, 0.        , 0.        ,\n",
       "        0.        , 0.829279  , 0.        , 0.        , 0.        ]])"
      ]
     },
     "execution_count": 7,
     "metadata": {},
     "output_type": "execute_result"
    }
   ],
   "source": [
    "query = \"Do I need to know python to sign up for the January course?\"\n",
    "\n",
    "\n",
    "\n",
    "q = cv.transform([query])\n",
    "q.toarray()\n",
    "\n"
   ]
  },
  {
   "cell_type": "code",
   "execution_count": 8,
   "id": "a2d9faf3",
   "metadata": {},
   "outputs": [
    {
     "name": "stdout",
     "output_type": "stream",
     "text": [
      "{'catalog': np.float64(0.0), 'cloud': np.float64(0.0), 'course': np.float64(0.39515588491314224), 'details': np.float64(0.0), 'end': np.float64(0.0), 'google': np.float64(0.0), 'homework': np.float64(0.0), 'january': np.float64(0.39515588491314224), 'listed': np.float64(0.0), 'month': np.float64(0.0), 'prerequisites': np.float64(0.0), 'python': np.float64(0.8292789960182417), 'register': np.float64(0.0), 'setup': np.float64(0.0), 'submit': np.float64(0.0)}\n",
      "{'catalog': np.float64(0.5675015398728066), 'cloud': np.float64(0.0), 'course': np.float64(0.2704175244456293), 'details': np.float64(0.0), 'end': np.float64(0.0), 'google': np.float64(0.0), 'homework': np.float64(0.0), 'january': np.float64(0.2704175244456293), 'listed': np.float64(0.5675015398728066), 'month': np.float64(0.0), 'prerequisites': np.float64(0.45785666908911726), 'python': np.float64(0.0), 'register': np.float64(0.0), 'setup': np.float64(0.0), 'submit': np.float64(0.0)}\n"
     ]
    }
   ],
   "source": [
    "query_dict = dict(zip(names, q.toarray()[0]))\n",
    "doc_dict = dict(zip(names, X.toarray()[1]))\n",
    "print(query_dict)\n",
    "print(doc_dict)"
   ]
  },
  {
   "cell_type": "code",
   "execution_count": 9,
   "id": "b94c019f",
   "metadata": {},
   "outputs": [
    {
     "data": {
      "text/html": [
       "<div><style>\n",
       ".dataframe > thead > tr,\n",
       ".dataframe > tbody > tr {\n",
       "  text-align: right;\n",
       "  white-space: pre-wrap;\n",
       "}\n",
       "</style>\n",
       "<small>shape: (2, 16)</small><table border=\"1\" class=\"dataframe\"><thead><tr><th>index</th><th>catalog</th><th>cloud</th><th>course</th><th>details</th><th>end</th><th>google</th><th>homework</th><th>january</th><th>listed</th><th>month</th><th>prerequisites</th><th>python</th><th>register</th><th>setup</th><th>submit</th></tr><tr><td>str</td><td>f64</td><td>f64</td><td>f64</td><td>f64</td><td>f64</td><td>f64</td><td>f64</td><td>f64</td><td>f64</td><td>f64</td><td>f64</td><td>f64</td><td>f64</td><td>f64</td><td>f64</td></tr></thead><tbody><tr><td>&quot;query&quot;</td><td>0.0</td><td>0.0</td><td>0.395156</td><td>0.0</td><td>0.0</td><td>0.0</td><td>0.0</td><td>0.395156</td><td>0.0</td><td>0.0</td><td>0.0</td><td>0.829279</td><td>0.0</td><td>0.0</td><td>0.0</td></tr><tr><td>&quot;doc&quot;</td><td>0.567502</td><td>0.0</td><td>0.270418</td><td>0.0</td><td>0.0</td><td>0.0</td><td>0.0</td><td>0.270418</td><td>0.567502</td><td>0.0</td><td>0.457857</td><td>0.0</td><td>0.0</td><td>0.0</td><td>0.0</td></tr></tbody></table></div>"
      ],
      "text/plain": [
       "shape: (2, 16)\n",
       "┌───────┬──────────┬───────┬──────────┬───┬──────────┬──────────┬───────┬────────┐\n",
       "│ index ┆ catalog  ┆ cloud ┆ course   ┆ … ┆ python   ┆ register ┆ setup ┆ submit │\n",
       "│ ---   ┆ ---      ┆ ---   ┆ ---      ┆   ┆ ---      ┆ ---      ┆ ---   ┆ ---    │\n",
       "│ str   ┆ f64      ┆ f64   ┆ f64      ┆   ┆ f64      ┆ f64      ┆ f64   ┆ f64    │\n",
       "╞═══════╪══════════╪═══════╪══════════╪═══╪══════════╪══════════╪═══════╪════════╡\n",
       "│ query ┆ 0.0      ┆ 0.0   ┆ 0.395156 ┆ … ┆ 0.829279 ┆ 0.0      ┆ 0.0   ┆ 0.0    │\n",
       "│ doc   ┆ 0.567502 ┆ 0.0   ┆ 0.270418 ┆ … ┆ 0.0      ┆ 0.0      ┆ 0.0   ┆ 0.0    │\n",
       "└───────┴──────────┴───────┴──────────┴───┴──────────┴──────────┴───────┴────────┘"
      ]
     },
     "execution_count": 9,
     "metadata": {},
     "output_type": "execute_result"
    }
   ],
   "source": [
    "df_qd = pl.DataFrame([query_dict, doc_dict])\n",
    "pl.concat([ pl.DataFrame({'index':['query','doc']}) ,df_qd],how='horizontal' )\n"
   ]
  },
  {
   "cell_type": "code",
   "execution_count": 10,
   "id": "073b60d5",
   "metadata": {},
   "outputs": [
    {
     "name": "stdout",
     "output_type": "stream",
     "text": [
      "query similarity to row 1\n"
     ]
    },
    {
     "data": {
      "text/plain": [
       "0.21371415233666782"
      ]
     },
     "execution_count": 10,
     "metadata": {},
     "output_type": "execute_result"
    }
   ],
   "source": [
    "print('query similarity to row 1')\n",
    "df_qd.product().sum_horizontal().item()"
   ]
  },
  {
   "cell_type": "code",
   "execution_count": 11,
   "id": "896f890b",
   "metadata": {},
   "outputs": [
    {
     "name": "stdout",
     "output_type": "stream",
     "text": [
      "query similarity to all docs\n"
     ]
    },
    {
     "data": {
      "text/plain": [
       "array([[0.25955955],\n",
       "       [0.21371415],\n",
       "       [0.17843726],\n",
       "       [0.28419115],\n",
       "       [0.57137158]])"
      ]
     },
     "execution_count": 11,
     "metadata": {},
     "output_type": "execute_result"
    }
   ],
   "source": [
    "print('query similarity to all docs')\n",
    "\n",
    "X.dot(q.T).toarray()\n",
    "\n"
   ]
  },
  {
   "cell_type": "code",
   "execution_count": 12,
   "id": "748051bf",
   "metadata": {},
   "outputs": [
    {
     "name": "stdout",
     "output_type": "stream",
     "text": [
      "equivalent to cosine similarity\n"
     ]
    },
    {
     "data": {
      "text/plain": [
       "array([[0.25955955],\n",
       "       [0.21371415],\n",
       "       [0.17843726],\n",
       "       [0.28419115],\n",
       "       [0.57137158]])"
      ]
     },
     "execution_count": 12,
     "metadata": {},
     "output_type": "execute_result"
    }
   ],
   "source": [
    "print('equivalent to cosine similarity')\n",
    "\n",
    "cosine_similarity(X, q)"
   ]
  },
  {
   "cell_type": "code",
   "execution_count": 13,
   "id": "04119804",
   "metadata": {},
   "outputs": [
    {
     "name": "stdout",
     "output_type": "stream",
     "text": [
      "Do I need to know python to sign up for the January course?\n",
      "January course setup: Python and Google Cloud\n"
     ]
    }
   ],
   "source": [
    "print(query)\n",
    "\n",
    "print(docs_example[4])"
   ]
  }
 ],
 "metadata": {
  "kernelspec": {
   "display_name": ".venv",
   "language": "python",
   "name": "python3"
  },
  "language_info": {
   "codemirror_mode": {
    "name": "ipython",
    "version": 3
   },
   "file_extension": ".py",
   "mimetype": "text/x-python",
   "name": "python",
   "nbconvert_exporter": "python",
   "pygments_lexer": "ipython3",
   "version": "3.12.3"
  }
 },
 "nbformat": 4,
 "nbformat_minor": 5
}
