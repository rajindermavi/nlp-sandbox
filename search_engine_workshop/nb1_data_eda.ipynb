{
 "cells": [
  {
   "cell_type": "code",
   "execution_count": 1,
   "id": "8830de53",
   "metadata": {},
   "outputs": [],
   "source": [
    "import polars as pl\n",
    "\n",
    "import requests \n",
    "\n",
    "import pickle"
   ]
  },
  {
   "cell_type": "code",
   "execution_count": 2,
   "id": "d9cbcc08",
   "metadata": {},
   "outputs": [],
   "source": [
    "docs_url = 'https://github.com/alexeygrigorev/llm-rag-workshop/raw/main/notebooks/documents.json'\n",
    "docs_response = requests.get(docs_url)\n",
    "documents_raw = docs_response.json()"
   ]
  },
  {
   "cell_type": "code",
   "execution_count": 3,
   "id": "2f031117",
   "metadata": {},
   "outputs": [
    {
     "data": {
      "text/plain": [
       "list"
      ]
     },
     "execution_count": 3,
     "metadata": {},
     "output_type": "execute_result"
    }
   ],
   "source": [
    "type(documents_raw)"
   ]
  },
  {
   "cell_type": "code",
   "execution_count": 4,
   "id": "80588872",
   "metadata": {},
   "outputs": [
    {
     "data": {
      "text/plain": [
       "3"
      ]
     },
     "execution_count": 4,
     "metadata": {},
     "output_type": "execute_result"
    }
   ],
   "source": [
    "len(documents_raw)"
   ]
  },
  {
   "cell_type": "code",
   "execution_count": 5,
   "id": "e0287767",
   "metadata": {},
   "outputs": [
    {
     "data": {
      "text/plain": [
       "dict"
      ]
     },
     "execution_count": 5,
     "metadata": {},
     "output_type": "execute_result"
    }
   ],
   "source": [
    "type(documents_raw[0])"
   ]
  },
  {
   "cell_type": "code",
   "execution_count": 6,
   "id": "ac339cb8",
   "metadata": {},
   "outputs": [
    {
     "name": "stdout",
     "output_type": "stream",
     "text": [
      "type(course) = <class 'str'>\n",
      "type(documents) = <class 'list'>\n"
     ]
    }
   ],
   "source": [
    "for key in documents_raw[0].keys():\n",
    "    print(f'type({key}) = {type(documents_raw[0][key])}')"
   ]
  },
  {
   "cell_type": "code",
   "execution_count": 7,
   "id": "55ebeea3",
   "metadata": {},
   "outputs": [
    {
     "data": {
      "text/plain": [
       "'data-engineering-zoomcamp'"
      ]
     },
     "execution_count": 7,
     "metadata": {},
     "output_type": "execute_result"
    }
   ],
   "source": [
    "documents_raw[0]['course']"
   ]
  },
  {
   "cell_type": "code",
   "execution_count": 8,
   "id": "dd5d14c4",
   "metadata": {},
   "outputs": [
    {
     "data": {
      "text/plain": [
       "{'text': \"The purpose of this document is to capture frequently asked technical questions\\nThe exact day and hour of the course will be 15th Jan 2024 at 17h00. The course will start with the first  “Office Hours'' live.1\\nSubscribe to course public Google Calendar (it works from Desktop only).\\nRegister before the course starts using this link.\\nJoin the course Telegram channel with announcements.\\nDon’t forget to register in DataTalks.Club's Slack and join the channel.\",\n",
       " 'section': 'General course-related questions',\n",
       " 'question': 'Course - When will the course start?'}"
      ]
     },
     "execution_count": 8,
     "metadata": {},
     "output_type": "execute_result"
    }
   ],
   "source": [
    "documents_raw[0]['documents'][0]"
   ]
  },
  {
   "cell_type": "code",
   "execution_count": 9,
   "id": "ab2f44a9",
   "metadata": {},
   "outputs": [],
   "source": [
    "documents = []\n",
    "\n",
    "for course in documents_raw:\n",
    "    course_name = course['course']\n",
    "\n",
    "    for doc in course['documents']:\n",
    "        doc['course'] = course_name\n",
    "        documents.append(doc)"
   ]
  },
  {
   "cell_type": "code",
   "execution_count": 10,
   "id": "965e33d8",
   "metadata": {},
   "outputs": [
    {
     "data": {
      "text/plain": [
       "948"
      ]
     },
     "execution_count": 10,
     "metadata": {},
     "output_type": "execute_result"
    }
   ],
   "source": [
    "len(documents)"
   ]
  },
  {
   "cell_type": "code",
   "execution_count": 11,
   "id": "a96177b7",
   "metadata": {},
   "outputs": [
    {
     "data": {
      "text/plain": [
       "{'text': \"The purpose of this document is to capture frequently asked technical questions\\nThe exact day and hour of the course will be 15th Jan 2024 at 17h00. The course will start with the first  “Office Hours'' live.1\\nSubscribe to course public Google Calendar (it works from Desktop only).\\nRegister before the course starts using this link.\\nJoin the course Telegram channel with announcements.\\nDon’t forget to register in DataTalks.Club's Slack and join the channel.\",\n",
       " 'section': 'General course-related questions',\n",
       " 'question': 'Course - When will the course start?',\n",
       " 'course': 'data-engineering-zoomcamp'}"
      ]
     },
     "execution_count": 11,
     "metadata": {},
     "output_type": "execute_result"
    }
   ],
   "source": [
    "documents[0]"
   ]
  },
  {
   "cell_type": "code",
   "execution_count": 12,
   "id": "fa5d8fae",
   "metadata": {},
   "outputs": [
    {
     "data": {
      "text/html": [
       "<div><style>\n",
       ".dataframe > thead > tr,\n",
       ".dataframe > tbody > tr {\n",
       "  text-align: right;\n",
       "  white-space: pre-wrap;\n",
       "}\n",
       "</style>\n",
       "<small>shape: (5, 4)</small><table border=\"1\" class=\"dataframe\"><thead><tr><th>course</th><th>section</th><th>question</th><th>text</th></tr><tr><td>str</td><td>str</td><td>str</td><td>str</td></tr></thead><tbody><tr><td>&quot;data-engineering-zoomcamp&quot;</td><td>&quot;General course-related questio…</td><td>&quot;Course - When will the course …</td><td>&quot;The purpose of this document i…</td></tr><tr><td>&quot;data-engineering-zoomcamp&quot;</td><td>&quot;General course-related questio…</td><td>&quot;Course - What are the prerequi…</td><td>&quot;GitHub - DataTalksClub data-en…</td></tr><tr><td>&quot;data-engineering-zoomcamp&quot;</td><td>&quot;General course-related questio…</td><td>&quot;Course - Can I still join the …</td><td>&quot;Yes, even if you don&#x27;t registe…</td></tr><tr><td>&quot;data-engineering-zoomcamp&quot;</td><td>&quot;General course-related questio…</td><td>&quot;Course - I have registered for…</td><td>&quot;You don&#x27;t need it. You&#x27;re acce…</td></tr><tr><td>&quot;data-engineering-zoomcamp&quot;</td><td>&quot;General course-related questio…</td><td>&quot;Course - What can I do before …</td><td>&quot;You can start by installing an…</td></tr></tbody></table></div>"
      ],
      "text/plain": [
       "shape: (5, 4)\n",
       "┌───────────────────────────┬────────────────┬──────────────────────────┬──────────────────────────┐\n",
       "│ course                    ┆ section        ┆ question                 ┆ text                     │\n",
       "│ ---                       ┆ ---            ┆ ---                      ┆ ---                      │\n",
       "│ str                       ┆ str            ┆ str                      ┆ str                      │\n",
       "╞═══════════════════════════╪════════════════╪══════════════════════════╪══════════════════════════╡\n",
       "│ data-engineering-zoomcamp ┆ General        ┆ Course - When will the   ┆ The purpose of this      │\n",
       "│                           ┆ course-related ┆ course …                 ┆ document i…              │\n",
       "│                           ┆ questio…       ┆                          ┆                          │\n",
       "│ data-engineering-zoomcamp ┆ General        ┆ Course - What are the    ┆ GitHub - DataTalksClub   │\n",
       "│                           ┆ course-related ┆ prerequi…                ┆ data-en…                 │\n",
       "│                           ┆ questio…       ┆                          ┆                          │\n",
       "│ data-engineering-zoomcamp ┆ General        ┆ Course - Can I still     ┆ Yes, even if you don't   │\n",
       "│                           ┆ course-related ┆ join the …               ┆ registe…                 │\n",
       "│                           ┆ questio…       ┆                          ┆                          │\n",
       "│ data-engineering-zoomcamp ┆ General        ┆ Course - I have          ┆ You don't need it.       │\n",
       "│                           ┆ course-related ┆ registered for…          ┆ You're acce…             │\n",
       "│                           ┆ questio…       ┆                          ┆                          │\n",
       "│ data-engineering-zoomcamp ┆ General        ┆ Course - What can I do   ┆ You can start by         │\n",
       "│                           ┆ course-related ┆ before …                 ┆ installing an…           │\n",
       "│                           ┆ questio…       ┆                          ┆                          │\n",
       "└───────────────────────────┴────────────────┴──────────────────────────┴──────────────────────────┘"
      ]
     },
     "execution_count": 12,
     "metadata": {},
     "output_type": "execute_result"
    }
   ],
   "source": [
    "df = pl.DataFrame(documents, schema=['course', 'section', 'question', 'text'])\n",
    "df.head()"
   ]
  },
  {
   "cell_type": "code",
   "execution_count": 13,
   "id": "9249d9c0",
   "metadata": {},
   "outputs": [
    {
     "data": {
      "text/html": [
       "<div><style>\n",
       ".dataframe > thead > tr,\n",
       ".dataframe > tbody > tr {\n",
       "  text-align: right;\n",
       "  white-space: pre-wrap;\n",
       "}\n",
       "</style>\n",
       "<small>shape: (3, 2)</small><table border=\"1\" class=\"dataframe\"><thead><tr><th>course</th><th>count</th></tr><tr><td>str</td><td>u32</td></tr></thead><tbody><tr><td>&quot;data-engineering-zoomcamp&quot;</td><td>435</td></tr><tr><td>&quot;machine-learning-zoomcamp&quot;</td><td>375</td></tr><tr><td>&quot;mlops-zoomcamp&quot;</td><td>138</td></tr></tbody></table></div>"
      ],
      "text/plain": [
       "shape: (3, 2)\n",
       "┌───────────────────────────┬───────┐\n",
       "│ course                    ┆ count │\n",
       "│ ---                       ┆ ---   │\n",
       "│ str                       ┆ u32   │\n",
       "╞═══════════════════════════╪═══════╡\n",
       "│ data-engineering-zoomcamp ┆ 435   │\n",
       "│ machine-learning-zoomcamp ┆ 375   │\n",
       "│ mlops-zoomcamp            ┆ 138   │\n",
       "└───────────────────────────┴───────┘"
      ]
     },
     "execution_count": 13,
     "metadata": {},
     "output_type": "execute_result"
    }
   ],
   "source": [
    "df['course'].value_counts(sort=True)"
   ]
  },
  {
   "cell_type": "code",
   "execution_count": 14,
   "id": "a7254bb6",
   "metadata": {},
   "outputs": [
    {
     "data": {
      "text/html": [
       "<div><style>\n",
       ".dataframe > thead > tr,\n",
       ".dataframe > tbody > tr {\n",
       "  text-align: right;\n",
       "  white-space: pre-wrap;\n",
       "}\n",
       "</style>\n",
       "<small>shape: (5, 4)</small><table border=\"1\" class=\"dataframe\"><thead><tr><th>course</th><th>section</th><th>question</th><th>text</th></tr><tr><td>str</td><td>str</td><td>str</td><td>str</td></tr></thead><tbody><tr><td>&quot;data-engineering-zoomcamp&quot;</td><td>&quot;General course-related questio…</td><td>&quot;Course - When will the course …</td><td>&quot;The purpose of this document i…</td></tr><tr><td>&quot;data-engineering-zoomcamp&quot;</td><td>&quot;General course-related questio…</td><td>&quot;Course - What are the prerequi…</td><td>&quot;GitHub - DataTalksClub data-en…</td></tr><tr><td>&quot;data-engineering-zoomcamp&quot;</td><td>&quot;General course-related questio…</td><td>&quot;Course - Can I still join the …</td><td>&quot;Yes, even if you don&#x27;t registe…</td></tr><tr><td>&quot;data-engineering-zoomcamp&quot;</td><td>&quot;General course-related questio…</td><td>&quot;Course - I have registered for…</td><td>&quot;You don&#x27;t need it. You&#x27;re acce…</td></tr><tr><td>&quot;data-engineering-zoomcamp&quot;</td><td>&quot;General course-related questio…</td><td>&quot;Course - What can I do before …</td><td>&quot;You can start by installing an…</td></tr></tbody></table></div>"
      ],
      "text/plain": [
       "shape: (5, 4)\n",
       "┌───────────────────────────┬────────────────┬──────────────────────────┬──────────────────────────┐\n",
       "│ course                    ┆ section        ┆ question                 ┆ text                     │\n",
       "│ ---                       ┆ ---            ┆ ---                      ┆ ---                      │\n",
       "│ str                       ┆ str            ┆ str                      ┆ str                      │\n",
       "╞═══════════════════════════╪════════════════╪══════════════════════════╪══════════════════════════╡\n",
       "│ data-engineering-zoomcamp ┆ General        ┆ Course - When will the   ┆ The purpose of this      │\n",
       "│                           ┆ course-related ┆ course …                 ┆ document i…              │\n",
       "│                           ┆ questio…       ┆                          ┆                          │\n",
       "│ data-engineering-zoomcamp ┆ General        ┆ Course - What are the    ┆ GitHub - DataTalksClub   │\n",
       "│                           ┆ course-related ┆ prerequi…                ┆ data-en…                 │\n",
       "│                           ┆ questio…       ┆                          ┆                          │\n",
       "│ data-engineering-zoomcamp ┆ General        ┆ Course - Can I still     ┆ Yes, even if you don't   │\n",
       "│                           ┆ course-related ┆ join the …               ┆ registe…                 │\n",
       "│                           ┆ questio…       ┆                          ┆                          │\n",
       "│ data-engineering-zoomcamp ┆ General        ┆ Course - I have          ┆ You don't need it.       │\n",
       "│                           ┆ course-related ┆ registered for…          ┆ You're acce…             │\n",
       "│                           ┆ questio…       ┆                          ┆                          │\n",
       "│ data-engineering-zoomcamp ┆ General        ┆ Course - What can I do   ┆ You can start by         │\n",
       "│                           ┆ course-related ┆ before …                 ┆ installing an…           │\n",
       "│                           ┆ questio…       ┆                          ┆                          │\n",
       "└───────────────────────────┴────────────────┴──────────────────────────┴──────────────────────────┘"
      ]
     },
     "execution_count": 14,
     "metadata": {},
     "output_type": "execute_result"
    }
   ],
   "source": [
    "df_de = df.filter( pl.col('course').eq('data-engineering-zoomcamp') )\n",
    "df_de.head()"
   ]
  },
  {
   "cell_type": "code",
   "execution_count": 15,
   "id": "1685f69a",
   "metadata": {},
   "outputs": [
    {
     "data": {
      "text/html": [
       "<div><style>\n",
       ".dataframe > thead > tr,\n",
       ".dataframe > tbody > tr {\n",
       "  text-align: right;\n",
       "  white-space: pre-wrap;\n",
       "}\n",
       "</style>\n",
       "<small>shape: (13, 2)</small><table border=\"1\" class=\"dataframe\"><thead><tr><th>section</th><th>count</th></tr><tr><td>str</td><td>u32</td></tr></thead><tbody><tr><td>&quot;Module 1: Docker and Terraform&quot;</td><td>116</td></tr><tr><td>&quot;Module 4: analytics engineerin…</td><td>74</td></tr><tr><td>&quot;Module 5: pyspark&quot;</td><td>56</td></tr><tr><td>&quot;General course-related questio…</td><td>44</td></tr><tr><td>&quot;Module 2: Workflow Orchestrati…</td><td>38</td></tr><tr><td>&hellip;</td><td>&hellip;</td></tr><tr><td>&quot;Workshop 2 - RisingWave&quot;</td><td>18</td></tr><tr><td>&quot;Project&quot;</td><td>16</td></tr><tr><td>&quot;Workshop 1 - dlthub&quot;</td><td>4</td></tr><tr><td>&quot;Triggers in Mage via CLI&quot;</td><td>2</td></tr><tr><td>&quot;Course Management Form for Hom…</td><td>1</td></tr></tbody></table></div>"
      ],
      "text/plain": [
       "shape: (13, 2)\n",
       "┌─────────────────────────────────┬───────┐\n",
       "│ section                         ┆ count │\n",
       "│ ---                             ┆ ---   │\n",
       "│ str                             ┆ u32   │\n",
       "╞═════════════════════════════════╪═══════╡\n",
       "│ Module 1: Docker and Terraform  ┆ 116   │\n",
       "│ Module 4: analytics engineerin… ┆ 74    │\n",
       "│ Module 5: pyspark               ┆ 56    │\n",
       "│ General course-related questio… ┆ 44    │\n",
       "│ Module 2: Workflow Orchestrati… ┆ 38    │\n",
       "│ …                               ┆ …     │\n",
       "│ Workshop 2 - RisingWave         ┆ 18    │\n",
       "│ Project                         ┆ 16    │\n",
       "│ Workshop 1 - dlthub             ┆ 4     │\n",
       "│ Triggers in Mage via CLI        ┆ 2     │\n",
       "│ Course Management Form for Hom… ┆ 1     │\n",
       "└─────────────────────────────────┴───────┘"
      ]
     },
     "execution_count": 15,
     "metadata": {},
     "output_type": "execute_result"
    }
   ],
   "source": [
    "df_de['section'].value_counts(sort=True)"
   ]
  },
  {
   "cell_type": "code",
   "execution_count": 16,
   "id": "72cc3be1",
   "metadata": {},
   "outputs": [],
   "source": [
    "df.write_parquet('df_qa.parquet')\n",
    "with open(\"documents.pkl\", \"wb\") as f:\n",
    "    pickle.dump(documents, f)"
   ]
  }
 ],
 "metadata": {
  "kernelspec": {
   "display_name": ".venv",
   "language": "python",
   "name": "python3"
  },
  "language_info": {
   "codemirror_mode": {
    "name": "ipython",
    "version": 3
   },
   "file_extension": ".py",
   "mimetype": "text/x-python",
   "name": "python",
   "nbconvert_exporter": "python",
   "pygments_lexer": "ipython3",
   "version": "3.12.3"
  }
 },
 "nbformat": 4,
 "nbformat_minor": 5
}
