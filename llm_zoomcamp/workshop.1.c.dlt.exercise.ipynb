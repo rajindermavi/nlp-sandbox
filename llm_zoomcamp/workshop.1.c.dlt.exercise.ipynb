{
 "cells": [
  {
   "cell_type": "code",
   "execution_count": 1,
   "id": "e6e239d7",
   "metadata": {},
   "outputs": [],
   "source": [
    "import json\n",
    "import requests\n",
    "\n",
    "import dlt\n",
    "from dlt.destinations import qdrant\n",
    "\n",
    "from qdrant_client import QdrantClient\n",
    "client = QdrantClient(\"http://localhost:6333\")"
   ]
  },
  {
   "cell_type": "code",
   "execution_count": 2,
   "id": "f5555b21",
   "metadata": {},
   "outputs": [],
   "source": [
    "qdrant_destination = qdrant(\n",
    "  qd_path=\"db.qdrant\", \n",
    ")"
   ]
  },
  {
   "cell_type": "code",
   "execution_count": 3,
   "id": "f4fa64cc",
   "metadata": {},
   "outputs": [
    {
     "name": "stdout",
     "output_type": "stream",
     "text": [
      "dlt version: 1.12.3\n"
     ]
    }
   ],
   "source": [
    "print(f'dlt version: {dlt.__version__}')"
   ]
  },
  {
   "cell_type": "code",
   "execution_count": 4,
   "id": "d9515fdf",
   "metadata": {},
   "outputs": [
    {
     "name": "stdout",
     "output_type": "stream",
     "text": [
      "Run started at 2025-07-14 03:24:32.236739+00:00 and COMPLETED in 10.38 seconds with 4 steps.\n",
      "Step extract COMPLETED in 1.21 seconds.\n",
      "\n",
      "Load package 1752463473.009967 is EXTRACTED and NOT YET LOADED to the destination and contains no failed jobs\n",
      "\n",
      "Step normalize COMPLETED in 0.08 seconds.\n",
      "Normalized data for the following tables:\n",
      "- zoomcamp_data: 948 row(s)\n",
      "\n",
      "Load package 1752463473.009967 is NORMALIZED and NOT YET LOADED to the destination and contains no failed jobs\n",
      "\n",
      "Step load COMPLETED in 8.34 seconds.\n",
      "Pipeline zoomcamp_pipeline load step completed in 8.33 seconds\n",
      "1 load package(s) were loaded to destination qdrant and into dataset zoomcamp_tagged_data\n",
      "The qdrant destination used /home/rajinder-mavi/code/nlp_sandbox/llm_zoomcamp/db.qdrant location to store data\n",
      "Load package 1752463473.009967 is LOADED and contains no failed jobs\n",
      "\n",
      "Step run COMPLETED in 10.38 seconds.\n",
      "Pipeline zoomcamp_pipeline load step completed in 8.33 seconds\n",
      "1 load package(s) were loaded to destination qdrant and into dataset zoomcamp_tagged_data\n",
      "The qdrant destination used /home/rajinder-mavi/code/nlp_sandbox/llm_zoomcamp/db.qdrant location to store data\n",
      "Load package 1752463473.009967 is LOADED and contains no failed jobs\n"
     ]
    }
   ],
   "source": [
    "@dlt.resource\n",
    "def zoomcamp_data():\n",
    "    docs_url = 'https://github.com/alexeygrigorev/llm-rag-workshop/raw/main/notebooks/documents.json'\n",
    "    docs_response = requests.get(docs_url)\n",
    "    documents_raw = docs_response.json()\n",
    "\n",
    "    for course in documents_raw:\n",
    "        course_name = course['course']\n",
    "\n",
    "        for doc in course['documents']:\n",
    "            doc['course'] = course_name\n",
    "            yield doc\n",
    "\n",
    "pipeline = dlt.pipeline(\n",
    "    pipeline_name=\"zoomcamp_pipeline\",\n",
    "    destination=qdrant_destination,\n",
    "    dataset_name=\"zoomcamp_tagged_data\"\n",
    "\n",
    ")\n",
    "load_info = pipeline.run(zoomcamp_data())\n",
    "print(pipeline.last_trace)"
   ]
  },
  {
   "cell_type": "code",
   "execution_count": 5,
   "id": "b70c2c2d",
   "metadata": {},
   "outputs": [],
   "source": [
    "with open('db.qdrant/meta.json', 'r') as file:\n",
    "    dlt_meta = json.load(file)"
   ]
  },
  {
   "cell_type": "code",
   "execution_count": 6,
   "id": "7a020054",
   "metadata": {},
   "outputs": [
    {
     "data": {
      "text/plain": [
       "{'fast-bge-small-en': {'size': 384,\n",
       "  'distance': 'Cosine',\n",
       "  'hnsw_config': None,\n",
       "  'quantization_config': None,\n",
       "  'on_disk': None,\n",
       "  'datatype': None,\n",
       "  'multivector_config': None}}"
      ]
     },
     "execution_count": 6,
     "metadata": {},
     "output_type": "execute_result"
    }
   ],
   "source": [
    "dlt_meta['collections']['zoomcamp_tagged_data']['vectors']"
   ]
  },
  {
   "cell_type": "code",
   "execution_count": null,
   "id": "760694ea",
   "metadata": {},
   "outputs": [],
   "source": []
  }
 ],
 "metadata": {
  "kernelspec": {
   "display_name": ".venv",
   "language": "python",
   "name": "python3"
  },
  "language_info": {
   "codemirror_mode": {
    "name": "ipython",
    "version": 3
   },
   "file_extension": ".py",
   "mimetype": "text/x-python",
   "name": "python",
   "nbconvert_exporter": "python",
   "pygments_lexer": "ipython3",
   "version": "3.12.3"
  }
 },
 "nbformat": 4,
 "nbformat_minor": 5
}
