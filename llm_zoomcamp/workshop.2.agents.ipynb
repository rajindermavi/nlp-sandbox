{
 "cells": [
  {
   "cell_type": "code",
   "execution_count": null,
   "id": "5721c334",
   "metadata": {},
   "outputs": [],
   "source": [
    "import requests\n",
    "\n",
    "from minsearch import AppendableIndex\n",
    "\n",
    "from utilities import chat_assistant\n"
   ]
  }
 ],
 "metadata": {
  "language_info": {
   "name": "python"
  }
 },
 "nbformat": 4,
 "nbformat_minor": 5
}
