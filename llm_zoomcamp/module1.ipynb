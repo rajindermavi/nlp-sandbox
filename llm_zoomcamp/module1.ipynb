{
 "cells": [
  {
   "cell_type": "code",
   "execution_count": 1,
   "id": "ffc52459",
   "metadata": {},
   "outputs": [],
   "source": [
    "import os\n",
    "import requests "
   ]
  },
  {
   "cell_type": "code",
   "execution_count": 2,
   "id": "0d78ab00",
   "metadata": {},
   "outputs": [],
   "source": [
    "from dotenv import load_dotenv\n",
    "\n",
    "load_dotenv()\n",
    "\n",
    "OPENAI_API_KEY = os.getenv('OPENAI_API_KEY')"
   ]
  },
  {
   "cell_type": "code",
   "execution_count": 3,
   "id": "311aa239",
   "metadata": {},
   "outputs": [],
   "source": [
    "from tqdm.auto import tqdm\n",
    "from openai import OpenAI\n",
    "from elasticsearch import Elasticsearch\n",
    "import tiktoken"
   ]
  },
  {
   "cell_type": "code",
   "execution_count": 4,
   "id": "4fcd5f8b",
   "metadata": {},
   "outputs": [],
   "source": [
    "from utilities import minsearch"
   ]
  },
  {
   "cell_type": "code",
   "execution_count": 5,
   "id": "9f224b1f",
   "metadata": {},
   "outputs": [],
   "source": [
    "client = OpenAI(api_key=OPENAI_API_KEY)"
   ]
  },
  {
   "cell_type": "code",
   "execution_count": 6,
   "id": "47456f23",
   "metadata": {},
   "outputs": [],
   "source": [
    "q = 'The course has already started, can I still enroll?'\n"
   ]
  },
  {
   "cell_type": "code",
   "execution_count": 7,
   "id": "77de3093",
   "metadata": {},
   "outputs": [],
   "source": [
    "response = client.chat.completions.create(\n",
    "    model='gpt-4.1-nano',\n",
    "    messages=[{\"role\":\"user\",\"content\":q}]\n",
    ")"
   ]
  },
  {
   "cell_type": "code",
   "execution_count": 8,
   "id": "607250e6",
   "metadata": {},
   "outputs": [
    {
     "data": {
      "text/plain": [
       "\"It depends on the specific course and the enrollment policies of the institution or platform offering it. I recommend checking the course's official website or contacting the course administrator directly to inquire about late enrollment options.\""
      ]
     },
     "execution_count": 8,
     "metadata": {},
     "output_type": "execute_result"
    }
   ],
   "source": [
    "response.choices[0].message.content"
   ]
  },
  {
   "cell_type": "code",
   "execution_count": 9,
   "id": "e1d45611",
   "metadata": {},
   "outputs": [],
   "source": [
    "docs_url = 'https://github.com/alexeygrigorev/llm-rag-workshop/raw/main/notebooks/documents.json'\n",
    "docs_response = requests.get(docs_url)\n",
    "documents_raw = docs_response.json()\n",
    "\n",
    "documents = []\n",
    "\n",
    "for course in documents_raw:\n",
    "    course_name = course['course']\n",
    "\n",
    "    for doc in course['documents']:\n",
    "        doc['course'] = course_name\n",
    "        documents.append(doc)"
   ]
  },
  {
   "cell_type": "code",
   "execution_count": 10,
   "id": "400cfd89",
   "metadata": {},
   "outputs": [
    {
     "data": {
      "text/plain": [
       "<utilities.minsearch.Index at 0x742cc05a3980>"
      ]
     },
     "execution_count": 10,
     "metadata": {},
     "output_type": "execute_result"
    }
   ],
   "source": [
    "index = minsearch.Index(\n",
    "    text_fields=[\"question\",\"text\",\"section\"],\n",
    "    keyword_fields=[\"course\"]\n",
    ")\n",
    "index.fit(documents)\n"
   ]
  },
  {
   "cell_type": "code",
   "execution_count": 11,
   "id": "8f49b62d",
   "metadata": {},
   "outputs": [],
   "source": [
    "\n",
    "\n",
    "boost = {'question':3.0}\n",
    "\n",
    "results = index.search(\n",
    "    query=q,\n",
    "    filter_dict={'course':'data-engineering-zoomcamp'},\n",
    "    boost_dict=boost,\n",
    "    num_results=5\n",
    ")"
   ]
  },
  {
   "cell_type": "code",
   "execution_count": 12,
   "id": "e4335736",
   "metadata": {},
   "outputs": [],
   "source": [
    "context = \"\" \n",
    "\n",
    "for doc in results:\n",
    "    context +=  f\"section: {doc['section']}\\nquestion: {doc['question']}\\nanswer: {doc['text']}\\n\\n\""
   ]
  },
  {
   "cell_type": "code",
   "execution_count": 13,
   "id": "63dfc9f4",
   "metadata": {},
   "outputs": [],
   "source": [
    "prompt_template=\"\"\"\n",
    "You are a course teaching assistant. Answer the QUESTION based on the CONTEXT.\n",
    "Use only the facts from the CONTEXT when answering the QUESTION. \n",
    "If the CONTEXT does not contain the answer, output NONE.\n",
    "\n",
    "QUESTION: {question}\n",
    "\n",
    "CONTEXT:\n",
    "{context}\n",
    "\"\"\".strip()\n",
    "\n",
    "prompt = prompt_template.format(question=q,context=context).strip()"
   ]
  },
  {
   "cell_type": "code",
   "execution_count": 14,
   "id": "7f3d55d9",
   "metadata": {},
   "outputs": [
    {
     "name": "stdout",
     "output_type": "stream",
     "text": [
      "You are a course teaching assistant. Answer the QUESTION based on the CONTEXT.\n",
      "Use only the facts from the CONTEXT when answering the QUESTION. \n",
      "If the CONTEXT does not contain the answer, output NONE.\n",
      "\n",
      "QUESTION: The course has already started, can I still enroll?\n",
      "\n",
      "CONTEXT:\n",
      "section: General course-related questions\n",
      "question: Course - Can I still join the course after the start date?\n",
      "answer: Yes, even if you don't register, you're still eligible to submit the homeworks.\n",
      "Be aware, however, that there will be deadlines for turning in the final projects. So don't leave everything for the last minute.\n",
      "\n",
      "section: General course-related questions\n",
      "question: Course - Can I follow the course after it finishes?\n",
      "answer: Yes, we will keep all the materials after the course finishes, so you can follow the course at your own pace after it finishes.\n",
      "You can also continue looking at the homeworks and continue preparing for the next cohort. I guess you can also start working on your final capstone project.\n",
      "\n",
      "section: General course-related questions\n",
      "question: Course - When will the course start?\n",
      "answer: The purpose of this document is to capture frequently asked technical questions\n",
      "The exact day and hour of the course will be 15th Jan 2024 at 17h00. The course will start with the first  “Office Hours'' live.1\n",
      "Subscribe to course public Google Calendar (it works from Desktop only).\n",
      "Register before the course starts using this link.\n",
      "Join the course Telegram channel with announcements.\n",
      "Don’t forget to register in DataTalks.Club's Slack and join the channel.\n",
      "\n",
      "section: General course-related questions\n",
      "question: Course - What can I do before the course starts?\n",
      "answer: You can start by installing and setting up all the dependencies and requirements:\n",
      "Google cloud account\n",
      "Google Cloud SDK\n",
      "Python 3 (installed with Anaconda)\n",
      "Terraform\n",
      "Git\n",
      "Look over the prerequisites and syllabus to see if you are comfortable with these subjects.\n",
      "\n",
      "section: General course-related questions\n",
      "question: Course - Can I get support if I take the course in the self-paced mode?\n",
      "answer: Yes, the slack channel remains open and you can ask questions there. But always sDocker containers exit code w search the channel first and second, check the FAQ (this document), most likely all your questions are already answered here.\n",
      "You can also tag the bot @ZoomcampQABot to help you conduct the search, but don’t rely on its answers 100%, it is pretty good though.\n"
     ]
    }
   ],
   "source": [
    "print(prompt)"
   ]
  },
  {
   "cell_type": "code",
   "execution_count": 15,
   "id": "5f4540fe",
   "metadata": {},
   "outputs": [
    {
     "data": {
      "text/plain": [
       "'YES'"
      ]
     },
     "execution_count": 15,
     "metadata": {},
     "output_type": "execute_result"
    }
   ],
   "source": [
    "response = client.chat.completions.create(\n",
    "    model='gpt-4.1-nano',\n",
    "    messages=[{\"role\":\"user\",\"content\":prompt}]\n",
    ")\n",
    "\n",
    "response.choices[0].message.content"
   ]
  },
  {
   "cell_type": "code",
   "execution_count": 16,
   "id": "61ded34f",
   "metadata": {},
   "outputs": [],
   "source": [
    "def min_search(query):\n",
    "    boost = {'question':3.0}\n",
    "\n",
    "    results = index.search(\n",
    "        query=query,\n",
    "        filter_dict={'course':'data-engineering-zoomcamp'},\n",
    "        boost_dict=boost,\n",
    "        num_results=5\n",
    "    )\n",
    "\n",
    "    return results"
   ]
  },
  {
   "cell_type": "code",
   "execution_count": 17,
   "id": "5bdc9e39",
   "metadata": {},
   "outputs": [],
   "source": [
    "def build_prompt(query,search_results):\n",
    "\n",
    "    context = \"\" \n",
    "\n",
    "    for doc in search_results:\n",
    "        context +=  f\"section: {doc['section']}\\nquestion: {doc['question']}\\nanswer: {doc['text']}\\n\\n\"\n",
    "\n",
    "    prompt_template=\"\"\"\n",
    "    You are a course teaching assistant. Answer the QUESTION based on the CONTEXT.\n",
    "    Use only the facts from the CONTEXT when answering the QUESTION. \n",
    "    If the CONTEXT does not contain the answer, output NONE.\n",
    "\n",
    "    QUESTION: {question}\n",
    "\n",
    "    CONTEXT:\n",
    "    {context}\n",
    "    \"\"\".strip()\n",
    "\n",
    "    prompt = prompt_template.format(question=query,context=context).strip()\n",
    "\n",
    "    return prompt"
   ]
  },
  {
   "cell_type": "code",
   "execution_count": 18,
   "id": "4b6319b1",
   "metadata": {},
   "outputs": [],
   "source": [
    "def llm(prompt):\n",
    "    response = client.chat.completions.create(\n",
    "        model='gpt-4.1-nano',\n",
    "        messages=[{\"role\":\"user\",\"content\":prompt}]\n",
    "    )\n",
    "\n",
    "    return response.choices[0].message.content"
   ]
  },
  {
   "cell_type": "code",
   "execution_count": 19,
   "id": "52f7e53f",
   "metadata": {},
   "outputs": [],
   "source": [
    "def min_rag(query):\n",
    "    search_results = min_search(query)\n",
    "    prompt = build_prompt(query,search_results)\n",
    "    return llm(prompt)"
   ]
  },
  {
   "cell_type": "code",
   "execution_count": 20,
   "id": "948f76a6",
   "metadata": {},
   "outputs": [
    {
     "name": "stdout",
     "output_type": "stream",
     "text": [
      "YES\n"
     ]
    }
   ],
   "source": [
    "print(min_rag(q))"
   ]
  },
  {
   "cell_type": "code",
   "execution_count": 21,
   "id": "942f3ff3",
   "metadata": {},
   "outputs": [],
   "source": [
    "es_client = Elasticsearch('http://localhost:9200')"
   ]
  },
  {
   "cell_type": "code",
   "execution_count": 22,
   "id": "fe1fe9d8",
   "metadata": {},
   "outputs": [
    {
     "data": {
      "text/plain": [
       "ObjectApiResponse({'acknowledged': True, 'shards_acknowledged': True, 'index': 'course-faq'})"
      ]
     },
     "execution_count": 22,
     "metadata": {},
     "output_type": "execute_result"
    }
   ],
   "source": [
    "index_settings = {\n",
    "    \"settings\":{\n",
    "        \"number_of_shards\":1,\n",
    "        \"number_of_replicas\":0\n",
    "    },\n",
    "    \"mappings\":{\n",
    "        \"properties\":{\n",
    "            \"text\":{\"type\":\"text\"},\n",
    "            \"section\":{\"type\":\"text\"},\n",
    "            \"question\":{\"type\":\"text\"},\n",
    "            \"course\":{\"type\":\"keyword\"}\n",
    "        }\n",
    "    }\n",
    "}\n",
    "\n",
    "index_name = \"course-faq\"\n",
    "\n",
    "es_client.indices.create(index=index_name,body=index_settings)"
   ]
  },
  {
   "cell_type": "code",
   "execution_count": 23,
   "id": "a89c347d",
   "metadata": {},
   "outputs": [
    {
     "data": {
      "application/vnd.jupyter.widget-view+json": {
       "model_id": "a77d69364e924ab88d3e4df3702d963a",
       "version_major": 2,
       "version_minor": 0
      },
      "text/plain": [
       "  0%|          | 0/948 [00:00<?, ?it/s]"
      ]
     },
     "metadata": {},
     "output_type": "display_data"
    }
   ],
   "source": [
    "for doc in tqdm(documents):\n",
    "    es_client.index(index=index_name,document=doc)"
   ]
  },
  {
   "cell_type": "code",
   "execution_count": 24,
   "id": "65e6bfd6",
   "metadata": {},
   "outputs": [],
   "source": [
    "search_query = {\n",
    "    \"size\":5,\n",
    "    \"query\":{\n",
    "        \"bool\":{\n",
    "            \"must\":{\n",
    "                \"multi_match\":{\n",
    "                    \"query\":q,\n",
    "                    \"fields\":[\"question^3\",\"text\",\"section\"],\n",
    "                    \"type\":\"best_fields\"\n",
    "                }\n",
    "            },\n",
    "            \"filter\":{\n",
    "                \"term\":{\n",
    "                    \"course\":\"data-engineering-zoomcamp\"\n",
    "                }\n",
    "            }\n",
    "        }\n",
    "    }\n",
    "}"
   ]
  },
  {
   "cell_type": "code",
   "execution_count": 25,
   "id": "422ea60b",
   "metadata": {},
   "outputs": [],
   "source": [
    "response = es_client.search(index=index_name,body=search_query)"
   ]
  },
  {
   "cell_type": "code",
   "execution_count": 26,
   "id": "d57d7678",
   "metadata": {},
   "outputs": [
    {
     "data": {
      "text/plain": [
       "[{'text': \"Yes, even if you don't register, you're still eligible to submit the homeworks.\\nBe aware, however, that there will be deadlines for turning in the final projects. So don't leave everything for the last minute.\",\n",
       "  'section': 'General course-related questions',\n",
       "  'question': 'Course - Can I still join the course after the start date?',\n",
       "  'course': 'data-engineering-zoomcamp'},\n",
       " {'text': 'You can start by installing and setting up all the dependencies and requirements:\\nGoogle cloud account\\nGoogle Cloud SDK\\nPython 3 (installed with Anaconda)\\nTerraform\\nGit\\nLook over the prerequisites and syllabus to see if you are comfortable with these subjects.',\n",
       "  'section': 'General course-related questions',\n",
       "  'question': 'Course - What can I do before the course starts?',\n",
       "  'course': 'data-engineering-zoomcamp'},\n",
       " {'text': 'Yes, we will keep all the materials after the course finishes, so you can follow the course at your own pace after it finishes.\\nYou can also continue looking at the homeworks and continue preparing for the next cohort. I guess you can also start working on your final capstone project.',\n",
       "  'section': 'General course-related questions',\n",
       "  'question': 'Course - Can I follow the course after it finishes?',\n",
       "  'course': 'data-engineering-zoomcamp'},\n",
       " {'text': 'Yes, the slack channel remains open and you can ask questions there. But always sDocker containers exit code w search the channel first and second, check the FAQ (this document), most likely all your questions are already answered here.\\nYou can also tag the bot @ZoomcampQABot to help you conduct the search, but don’t rely on its answers 100%, it is pretty good though.',\n",
       "  'section': 'General course-related questions',\n",
       "  'question': 'Course - Can I get support if I take the course in the self-paced mode?',\n",
       "  'course': 'data-engineering-zoomcamp'},\n",
       " {'text': \"You don't need it. You're accepted. You can also just start learning and submitting homework without registering. It is not checked against any registered list. Registration is just to gauge interest before the start date.\",\n",
       "  'section': 'General course-related questions',\n",
       "  'question': 'Course - I have registered for the Data Engineering Bootcamp. When can I expect to receive the confirmation email?',\n",
       "  'course': 'data-engineering-zoomcamp'}]"
      ]
     },
     "execution_count": 26,
     "metadata": {},
     "output_type": "execute_result"
    }
   ],
   "source": [
    "result_docs = []\n",
    "for hit in response['hits']['hits']:\n",
    "    result_docs.append(hit[\"_source\"])\n",
    "result_docs\n"
   ]
  },
  {
   "cell_type": "code",
   "execution_count": 27,
   "id": "bcc71923",
   "metadata": {},
   "outputs": [],
   "source": [
    "def elastic_search(query,question_boost = 3):\n",
    "    search_query = {\n",
    "        \"size\":5,\n",
    "        \"query\":{\n",
    "            \"bool\":{\n",
    "                \"must\":{\n",
    "                    \"multi_match\":{\n",
    "                        \"query\":query,\n",
    "                        \"fields\":[f\"question^{question_boost}\",\"text\",\"section\"],\n",
    "                        \"type\":\"best_fields\"\n",
    "                    }\n",
    "                },\n",
    "                \"filter\":{\n",
    "                    \"term\":{\n",
    "                        \"course\":\"data-engineering-zoomcamp\"\n",
    "                    }\n",
    "                }\n",
    "            }\n",
    "        }\n",
    "    }\n",
    "    response = es_client.search(index=index_name,body=search_query)\n",
    "    result_docs = []\n",
    "    for hit in response['hits']['hits']:\n",
    "        result_docs.append(hit[\"_source\"])\n",
    "    return result_docs\n",
    "    "
   ]
  },
  {
   "cell_type": "code",
   "execution_count": 28,
   "id": "6a8417e6",
   "metadata": {},
   "outputs": [
    {
     "data": {
      "text/plain": [
       "[{'text': \"Yes, even if you don't register, you're still eligible to submit the homeworks.\\nBe aware, however, that there will be deadlines for turning in the final projects. So don't leave everything for the last minute.\",\n",
       "  'section': 'General course-related questions',\n",
       "  'question': 'Course - Can I still join the course after the start date?',\n",
       "  'course': 'data-engineering-zoomcamp'},\n",
       " {'text': 'You can start by installing and setting up all the dependencies and requirements:\\nGoogle cloud account\\nGoogle Cloud SDK\\nPython 3 (installed with Anaconda)\\nTerraform\\nGit\\nLook over the prerequisites and syllabus to see if you are comfortable with these subjects.',\n",
       "  'section': 'General course-related questions',\n",
       "  'question': 'Course - What can I do before the course starts?',\n",
       "  'course': 'data-engineering-zoomcamp'},\n",
       " {'text': 'Yes, we will keep all the materials after the course finishes, so you can follow the course at your own pace after it finishes.\\nYou can also continue looking at the homeworks and continue preparing for the next cohort. I guess you can also start working on your final capstone project.',\n",
       "  'section': 'General course-related questions',\n",
       "  'question': 'Course - Can I follow the course after it finishes?',\n",
       "  'course': 'data-engineering-zoomcamp'},\n",
       " {'text': 'Yes, the slack channel remains open and you can ask questions there. But always sDocker containers exit code w search the channel first and second, check the FAQ (this document), most likely all your questions are already answered here.\\nYou can also tag the bot @ZoomcampQABot to help you conduct the search, but don’t rely on its answers 100%, it is pretty good though.',\n",
       "  'section': 'General course-related questions',\n",
       "  'question': 'Course - Can I get support if I take the course in the self-paced mode?',\n",
       "  'course': 'data-engineering-zoomcamp'},\n",
       " {'text': \"You don't need it. You're accepted. You can also just start learning and submitting homework without registering. It is not checked against any registered list. Registration is just to gauge interest before the start date.\",\n",
       "  'section': 'General course-related questions',\n",
       "  'question': 'Course - I have registered for the Data Engineering Bootcamp. When can I expect to receive the confirmation email?',\n",
       "  'course': 'data-engineering-zoomcamp'}]"
      ]
     },
     "execution_count": 28,
     "metadata": {},
     "output_type": "execute_result"
    }
   ],
   "source": [
    "elastic_search(q)"
   ]
  },
  {
   "cell_type": "code",
   "execution_count": 29,
   "id": "e7541afc",
   "metadata": {},
   "outputs": [],
   "source": [
    "def elastic_rag(query,question_boost=None):\n",
    "    if type(question_boost) == int and question_boost > 0:\n",
    "        search_results = elastic_search(query,question_boost=question_boost)\n",
    "    else:\n",
    "        search_results = elastic_search(query)\n",
    "    prompt = build_prompt(query,search_results)\n",
    "    return llm(prompt)"
   ]
  },
  {
   "cell_type": "code",
   "execution_count": 30,
   "id": "907023b0",
   "metadata": {},
   "outputs": [
    {
     "data": {
      "text/plain": [
       "'YES'"
      ]
     },
     "execution_count": 30,
     "metadata": {},
     "output_type": "execute_result"
    }
   ],
   "source": [
    "elastic_rag(q)"
   ]
  },
  {
   "cell_type": "markdown",
   "id": "6bcecf61",
   "metadata": {},
   "source": [
    "## HOMEWORK 1\n",
    "\n",
    "### Question 1.\n",
    "What's the version.build_hash value?\n",
    "\n",
    "### Answer 2. \n",
    "elasticsearch - version.build_hash: da95df118650b55a500dcc181889ac35c6d8da7c"
   ]
  },
  {
   "cell_type": "code",
   "execution_count": 31,
   "id": "a74a25b9",
   "metadata": {},
   "outputs": [],
   "source": [
    "docs_url = 'https://github.com/DataTalksClub/llm-zoomcamp/blob/main/01-intro/documents.json?raw=1'\n",
    "docs_response = requests.get(docs_url)\n",
    "documents_raw = docs_response.json()\n",
    "\n",
    "documents = []\n",
    "courses = []\n",
    "\n",
    "for course in documents_raw:\n",
    "    course_name = course['course']\n",
    "\n",
    "    courses.append(course_name)\n",
    "\n",
    "    for doc in course['documents']:\n",
    "        doc['course'] = course_name\n",
    "        documents.append(doc)"
   ]
  },
  {
   "cell_type": "markdown",
   "id": "1a7016fc",
   "metadata": {},
   "source": [
    "### Question 2\n",
    "Which function do you use for adding your data to elastic?\n",
    "\n",
    "    insert\n",
    "    index\n",
    "    put\n",
    "    add\n",
    "### Answer 2\n",
    "index"
   ]
  },
  {
   "cell_type": "markdown",
   "id": "0be341fa",
   "metadata": {},
   "source": [
    "### Question 3\n",
    "\n",
    "Now let's search in our index.\n",
    "\n",
    "We will execute a query \"How do execute a command on a Kubernetes pod?\".\n",
    "\n",
    "Use only question and text fields and give question a boost of 4, and use \"type\": \"best_fields\".\n",
    "\n",
    "What's the score for the top ranking result?\n",
    "\n",
    "    84.50\n",
    "    64.50\n",
    "    44.50\n",
    "    24.50\n"
   ]
  },
  {
   "cell_type": "code",
   "execution_count": 32,
   "id": "f3fddc0d",
   "metadata": {},
   "outputs": [
    {
     "data": {
      "application/vnd.jupyter.widget-view+json": {
       "model_id": "6ed5682187e443fcb65d076e2358f8b4",
       "version_major": 2,
       "version_minor": 0
      },
      "text/plain": [
       "  0%|          | 0/948 [00:00<?, ?it/s]"
      ]
     },
     "metadata": {},
     "output_type": "display_data"
    }
   ],
   "source": [
    "index_settings = {\n",
    "    \"settings\":{\n",
    "        \"number_of_shards\":1,\n",
    "        \"number_of_replicas\":0\n",
    "    },\n",
    "    \"mappings\":{\n",
    "        \"properties\":{\n",
    "            \"text\":{\"type\":\"text\"},\n",
    "            \"question\":{\"type\":\"text\"},\n",
    "            \"course\":{\"type\":\"keyword\"}\n",
    "        }\n",
    "    }\n",
    "}\n",
    "\n",
    "index_name = \"module1question3\"\n",
    "\n",
    "es_client.indices.create(index=index_name,body=index_settings)\n",
    "\n",
    "for doc in tqdm(documents):\n",
    "    es_client.index(index=index_name,document=doc)\n",
    "\n",
    "search_query = {\n",
    "        \"size\":5,\n",
    "        \"query\":{\n",
    "            \"bool\":{\n",
    "                \"must\":{\n",
    "                    \"multi_match\":{\n",
    "                        \"query\":\"How do execute a command on a Kubernetes pod?\",\n",
    "                        \"fields\":[\"question^4\",\"text\"],\n",
    "                        \"type\":\"best_fields\"\n",
    "                    }\n",
    "                },\n",
    "                \"filter\":{\n",
    "                    \"term\":{\n",
    "                        \"course\":\"data-engineering-zoomcamp\"\n",
    "                    }\n",
    "                }\n",
    "            }\n",
    "        }\n",
    "    }\n",
    "response = es_client.search(index=index_name,body=search_query)"
   ]
  },
  {
   "cell_type": "code",
   "execution_count": 33,
   "id": "201d3606",
   "metadata": {},
   "outputs": [
    {
     "data": {
      "text/plain": [
       "{'total': {'value': 334, 'relation': 'eq'},\n",
       " 'max_score': 31.24062,\n",
       " 'hits': [{'_index': 'module1question3',\n",
       "   '_id': 'e9HEipcBIHbA0KcxZggm',\n",
       "   '_score': 31.24062,\n",
       "   '_source': {'text': 'Install the astronomer-cosmos package as a dependency. (see Terraform example).\\nMake a new folder, dbt/, inside the dags/ folder of your Composer GCP bucket and copy paste your dbt-core project there. (see example)\\nEnsure your profiles.yml is configured to authenticate with a service account key. (see BigQuery example)\\nCreate a new DAG using the DbtTaskGroup class and a ProfileConfig specifying a profiles_yml_filepath that points to the location of your JSON key file. (see example)\\nYour dbt lineage graph should now appear as tasks inside a task group like this:',\n",
       "    'section': 'Course Management Form for Homeworks',\n",
       "    'question': 'How to run a dbt-core project as an Airflow Task Group on Google Cloud Composer using a service account JSON key',\n",
       "    'course': 'data-engineering-zoomcamp'}},\n",
       "  {'_index': 'module1question3',\n",
       "   '_id': '5tHEipcBIHbA0KcxXAb4',\n",
       "   '_score': 29.984417,\n",
       "   '_source': {'text': \"There are 3 Zoom Camps in a year, as of 2024. However, they are for separate courses:\\nData-Engineering (Jan - Apr)\\nMLOps (May - Aug)\\nMachine Learning (Sep - Jan)\\nThere's only one Data-Engineering Zoomcamp “live” cohort per year, for the certification. Same as for the other Zoomcamps.\\nThey follow pretty much the same schedule for each cohort per zoomcamp. For Data-Engineering it is (generally) from Jan-Apr of the year. If you’re not interested in the Certificate, you can take any zoom camps at any time, at your own pace, out of sync with any “live” cohort.\",\n",
       "    'section': 'General course-related questions',\n",
       "    'question': 'Course - how many Zoomcamps in a year?',\n",
       "    'course': 'data-engineering-zoomcamp'}},\n",
       "  {'_index': 'module1question3',\n",
       "   '_id': 'PNHEipcBIHbA0KcxZAi7',\n",
       "   '_score': 29.397783,\n",
       "   '_source': {'text': 'Error:\\nspark.createDataFrame(df_pandas).schema\\nTypeError: field Affiliated_base_number: Can not merge type <class \\'pyspark.sql.types.StringType\\'> and <class \\'pyspark.sql.types.DoubleType\\'>\\nSolution:\\nAffiliated_base_number is a mix of letters and numbers (you can check this with a preview of the table), so it cannot be set to DoubleType (only for double-precision numbers). The suitable type would be StringType. Spark  inferSchema is more accurate than Pandas infer type method in this case. You can set it to  true  while reading the csv, so you don’t have to take out any data from your dataset. Something like this can help:\\ndf = spark.read \\\\\\n.options(\\nheader = \"true\", \\\\\\ninferSchema = \"true\", \\\\\\n) \\\\\\n.csv(\\'path/to/your/csv/file/\\')\\nSolution B:\\nIt\\'s because some rows in the affiliated_base_number are null and therefore it is assigned the datatype String and this cannot be converted to type Double. So if you really want to convert this pandas df to a pyspark df only take the  rows from the pandas df that are not null in the \\'Affiliated_base_number\\' column. Then you will be able to apply the pyspark function createDataFrame.\\n# Only take rows that have no null values\\npandas_df= pandas_df[pandas_df.notnull().all(1)]',\n",
       "    'section': 'Module 5: pyspark',\n",
       "    'question': 'TypeError when using spark.createDataFrame function on a pandas df',\n",
       "    'course': 'data-engineering-zoomcamp'}},\n",
       "  {'_index': 'module1question3',\n",
       "   '_id': 'RdHEipcBIHbA0KcxZAju',\n",
       "   '_score': 29.202803,\n",
       "   '_source': {'text': 'Fix is to set the flag like the error states. Get your project ID from your dashboard and set it like so:\\ngcloud dataproc jobs submit pyspark \\\\\\n--cluster=my_cluster \\\\\\n--region=us-central1 \\\\\\n--project=my-dtc-project-1010101 \\\\\\ngs://my-dtc-bucket-id/code/06_spark_sql.py\\n-- \\\\\\n…',\n",
       "    'section': 'Module 5: pyspark',\n",
       "    'question': 'Dataproc - ERROR: (gcloud.dataproc.jobs.submit.pyspark) The required property [project] is not currently set. It can be set on a per-command basis by re-running your command with the [--project] flag.',\n",
       "    'course': 'data-engineering-zoomcamp'}},\n",
       "  {'_index': 'module1question3',\n",
       "   '_id': '5NHEipcBIHbA0KcxYgez',\n",
       "   '_score': 27.402063,\n",
       "   '_source': {'text': \"Make sure you use:\\ndbt run --var ‘is_test_run: false’ or\\ndbt build --var ‘is_test_run: false’\\n(watch out for formatted text from this document: re-type the single quotes). If that does not work, use --vars '{'is_test_run': 'false'}' with each phrase separately quoted.\",\n",
       "    'section': 'Module 4: analytics engineering with dbt',\n",
       "    'question': 'Build - Why do my Fact_trips only contain a few days of data?',\n",
       "    'course': 'data-engineering-zoomcamp'}}]}"
      ]
     },
     "execution_count": 33,
     "metadata": {},
     "output_type": "execute_result"
    }
   ],
   "source": [
    "response['hits']"
   ]
  },
  {
   "cell_type": "markdown",
   "id": "df6e0fc0",
   "metadata": {},
   "source": [
    "### Answer 3\n",
    "\n",
    "31.668137"
   ]
  },
  {
   "cell_type": "markdown",
   "id": "c2a6737f",
   "metadata": {},
   "source": [
    "### Question 4\n",
    "\n",
    "Now ask a different question: \"How do copy a file to a Docker container?\".\n",
    "\n",
    "This time we are only interested in questions from machine-learning-zoomcamp.\n",
    "\n",
    "Return 3 results. What's the 3rd question returned by the search engine?\n",
    "\n",
    "    How do I debug a docker container?\n",
    "    How do I copy files from a different folder into docker container’s working directory?\n",
    "    How do Lambda container images work?\n",
    "    How can I annotate a graph?\n"
   ]
  },
  {
   "cell_type": "code",
   "execution_count": 34,
   "id": "5bc128a5",
   "metadata": {},
   "outputs": [
    {
     "data": {
      "application/vnd.jupyter.widget-view+json": {
       "model_id": "035ca89be25348f9aebdcb5c3927f366",
       "version_major": 2,
       "version_minor": 0
      },
      "text/plain": [
       "  0%|          | 0/948 [00:00<?, ?it/s]"
      ]
     },
     "metadata": {},
     "output_type": "display_data"
    }
   ],
   "source": [
    "index_settings = {\n",
    "    \"settings\":{\n",
    "        \"number_of_shards\":1,\n",
    "        \"number_of_replicas\":0\n",
    "    },\n",
    "    \"mappings\":{\n",
    "        \"properties\":{\n",
    "            \"text\":{\"type\":\"text\"},\n",
    "            \"question\":{\"type\":\"text\"},\n",
    "            \"course\":{\"type\":\"keyword\"}\n",
    "        }\n",
    "    }\n",
    "}\n",
    "\n",
    "index_name = \"module1question4\"\n",
    "\n",
    "es_client.indices.create(index=index_name,body=index_settings)\n",
    "\n",
    "for doc in tqdm(documents):\n",
    "    es_client.index(index=index_name,document=doc)\n",
    "\n",
    "search_query = {\n",
    "        \"size\":3,\n",
    "        \"query\":{\n",
    "            \"bool\":{\n",
    "                \"must\":{\n",
    "                    \"multi_match\":{\n",
    "                        \"query\":\"How do execute a command on a Kubernetes pod?\",\n",
    "                        \"fields\":[\"question^4\",\"text\"],\n",
    "                        \"type\":\"best_fields\"\n",
    "                    }\n",
    "                },\n",
    "                \"filter\":{\n",
    "                    \"term\":{\n",
    "                        \"course\":\"machine-learning-zoomcamp\"\n",
    "                    }\n",
    "                }\n",
    "            }\n",
    "        }\n",
    "    }\n",
    "response = es_client.search(index=index_name,body=search_query)"
   ]
  },
  {
   "cell_type": "code",
   "execution_count": 35,
   "id": "26db3e60",
   "metadata": {},
   "outputs": [
    {
     "data": {
      "text/plain": [
       "[{'_index': 'module1question4',\n",
       "  '_id': '8dHEipcBIHbA0Kcxggxi',\n",
       "  '_score': 43.18049,\n",
       "  '_source': {'text': 'Launch the container image in interactive mode and overriding the entrypoint, so that it starts a bash command.\\ndocker run -it --entrypoint bash <image>\\nIf the container is already running, execute a command in the specific container:\\ndocker ps (find the container-id)\\ndocker exec -it <container-id> bash\\n(Marcos MJD)',\n",
       "   'section': '5. Deploying Machine Learning Models',\n",
       "   'question': 'How do I debug a docker container?',\n",
       "   'course': 'machine-learning-zoomcamp'}},\n",
       " {'_index': 'module1question4',\n",
       "  '_id': 'gNHEipcBIHbA0KcxhQ1-',\n",
       "  '_score': 34.81514,\n",
       "  '_source': {'text': 'Deploy and Access the Kubernetes Dashboard\\nLuke',\n",
       "   'section': '10. Kubernetes and TensorFlow Serving',\n",
       "   'question': 'Kubernetes-dashboard',\n",
       "   'course': 'machine-learning-zoomcamp'}},\n",
       " {'_index': 'module1question4',\n",
       "  '_id': 'EdHEipcBIHbA0Kcxgw0U',\n",
       "  '_score': 32.84156,\n",
       "  '_source': {'text': 'You can copy files from your local machine into a Docker container using the docker cp command. Here\\'s how to do it:\\nIn the Dockerfile, you can provide the folder containing the files that you want to copy over. The basic syntax is as follows:\\nCOPY [\"src/predict.py\", \"models/xgb_model.bin\", \"./\"]\\t\\t\\t\\t\\t\\t\\t\\t\\t\\t\\tGopakumar Gopinathan',\n",
       "   'section': '5. Deploying Machine Learning Models',\n",
       "   'question': 'How do I copy files from a different folder into docker container’s working directory?',\n",
       "   'course': 'machine-learning-zoomcamp'}}]"
      ]
     },
     "execution_count": 35,
     "metadata": {},
     "output_type": "execute_result"
    }
   ],
   "source": [
    "response['hits']['hits']"
   ]
  },
  {
   "cell_type": "markdown",
   "id": "8b0a925b",
   "metadata": {},
   "source": [
    "### Answer 4\n",
    "\n",
    "'How do I copy files from a different folder into docker container’s working directory?'"
   ]
  },
  {
   "cell_type": "markdown",
   "id": "3c436506",
   "metadata": {},
   "source": [
    "### Question 5\n",
    "\n",
    "Now we're ready to build a prompt to send to an LLM.\n",
    "\n",
    "Take the records returned from Elasticsearch in Q4 and use this template to build the context. Separate context entries by two linebreaks (\\n\\n)\n",
    "\n",
    "context_template = \"\"\"\n",
    "Q: {question}\n",
    "A: {text}\n",
    "\"\"\".strip()\n",
    "\n",
    "Now use the context you just created along with the \"How do I execute a command in a running docker container?\" question to construct a prompt using the template below:\n",
    "\n",
    "prompt_template = \"\"\"\n",
    "You're a course teaching assistant. Answer the QUESTION based on the CONTEXT from the FAQ database.\n",
    "Use only the facts from the CONTEXT when answering the QUESTION.\n",
    "\n",
    "QUESTION: {question}\n",
    "\n",
    "CONTEXT:\n",
    "{context}\n",
    "\"\"\".strip()\n",
    "\n",
    "What's the length of the resulting prompt? (use the len function)\n",
    "\n",
    "    946\n",
    "    1446\n",
    "    1946\n",
    "    2446\n"
   ]
  },
  {
   "cell_type": "code",
   "execution_count": 36,
   "id": "1c1767d2",
   "metadata": {},
   "outputs": [
    {
     "data": {
      "text/plain": [
       "1101"
      ]
     },
     "execution_count": 36,
     "metadata": {},
     "output_type": "execute_result"
    }
   ],
   "source": [
    "search_results = response['hits']['hits']\n",
    "\n",
    "prompt_template = \"\"\"\n",
    "You're a course teaching assistant. Answer the QUESTION based on the CONTEXT from the FAQ database.\n",
    "Use only the facts from the CONTEXT when answering the QUESTION.\n",
    "\n",
    "QUESTION: {question}\n",
    "\n",
    "CONTEXT:\n",
    "{context}\n",
    "\"\"\".strip()\n",
    "\n",
    "context_template = \"\"\"\n",
    "Q: {question}\n",
    "A: {text}\n",
    "\"\"\".strip()\n",
    "\n",
    "context = \"\" \n",
    "\n",
    "for doc in search_results:\n",
    "    doc = doc['_source']\n",
    "    context_ = context_template.format(question=doc['question'],text=doc['text']).strip()\n",
    "    context +=  f\"{context_}\\n\\n\"\n",
    "\n",
    "query = \"How do I execute a command in a running docker container?\"\n",
    "\n",
    "prompt = prompt_template.format(question=query,context=context).strip()\n",
    "len(prompt)"
   ]
  },
  {
   "cell_type": "markdown",
   "id": "435f9f63",
   "metadata": {},
   "source": [
    "### Answer 5\n",
    "1101"
   ]
  },
  {
   "cell_type": "markdown",
   "id": "dfcb380a",
   "metadata": {},
   "source": [
    "### Question 6\n",
    "\n",
    "When we use the OpenAI Platform, we're charged by the number of tokens we send in our prompt and receive in the response.\n",
    "\n",
    "The OpenAI python package uses tiktoken for tokenization:\n",
    "\n",
    "pip install tiktoken\n",
    "\n",
    "Let's calculate the number of tokens in our query:\n",
    "\n",
    "encoding = tiktoken.encoding_for_model(\"gpt-4o\")\n",
    "\n",
    "Use the encode function. How many tokens does our prompt have?\n",
    "\n",
    "    120\n",
    "    220\n",
    "    320\n",
    "    420\n"
   ]
  },
  {
   "cell_type": "code",
   "execution_count": 37,
   "id": "cacf10c7",
   "metadata": {},
   "outputs": [],
   "source": [
    "encoding = tiktoken.encoding_for_model(\"gpt-4o\")"
   ]
  },
  {
   "cell_type": "code",
   "execution_count": 38,
   "id": "9f448896",
   "metadata": {},
   "outputs": [],
   "source": [
    "code = encoding.encode(prompt)"
   ]
  },
  {
   "cell_type": "code",
   "execution_count": 39,
   "id": "cbb1b569",
   "metadata": {},
   "outputs": [
    {
     "data": {
      "text/plain": [
       "242"
      ]
     },
     "execution_count": 39,
     "metadata": {},
     "output_type": "execute_result"
    }
   ],
   "source": [
    "len(code)"
   ]
  },
  {
   "cell_type": "markdown",
   "id": "73243834",
   "metadata": {},
   "source": [
    "### Answer 6\n",
    "\n",
    "242"
   ]
  },
  {
   "cell_type": "code",
   "execution_count": null,
   "id": "aa5de0ec",
   "metadata": {},
   "outputs": [],
   "source": []
  }
 ],
 "metadata": {
  "kernelspec": {
   "display_name": ".venv",
   "language": "python",
   "name": "python3"
  },
  "language_info": {
   "codemirror_mode": {
    "name": "ipython",
    "version": 3
   },
   "file_extension": ".py",
   "mimetype": "text/x-python",
   "name": "python",
   "nbconvert_exporter": "python",
   "pygments_lexer": "ipython3",
   "version": "3.12.3"
  }
 },
 "nbformat": 4,
 "nbformat_minor": 5
}
